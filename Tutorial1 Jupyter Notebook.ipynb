{
 "cells": [
  {
   "cell_type": "markdown",
   "id": "9d70a7e9",
   "metadata": {},
   "source": [
    " # Tutorial1 Vitrual Environment Git Jupiter Notebooks"
   ]
  },
  {
   "cell_type": "code",
   "execution_count": null,
   "id": "8391d906",
   "metadata": {},
   "outputs": [],
   "source": [
    "print(\"Here is my Jupiter notebook\")"
   ]
  },
  {
   "cell_type": "markdown",
   "id": "663770f6",
   "metadata": {},
   "source": [
    "\n",
    "## Second level of title"
   ]
  },
  {
   "cell_type": "code",
   "execution_count": 4,
   "id": "7423ab7c",
   "metadata": {},
   "outputs": [],
   "source": [
    "### Third level of title"
   ]
  },
  {
   "cell_type": "code",
   "execution_count": null,
   "id": "1885f60e",
   "metadata": {},
   "outputs": [],
   "source": []
  }
 ],
 "metadata": {
  "kernelspec": {
   "display_name": "Python 3 (ipykernel)",
   "language": "python",
   "name": "python3"
  },
  "language_info": {
   "codemirror_mode": {
    "name": "ipython",
    "version": 3
   },
   "file_extension": ".py",
   "mimetype": "text/x-python",
   "name": "python",
   "nbconvert_exporter": "python",
   "pygments_lexer": "ipython3",
   "version": "3.10.4"
  }
 },
 "nbformat": 4,
 "nbformat_minor": 5
}
