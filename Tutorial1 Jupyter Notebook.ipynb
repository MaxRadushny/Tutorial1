{
 "cells": [
  {
   "cell_type": "markdown",
   "id": "9d70a7e9",
   "metadata": {},
   "source": [
    " # Tutorial1 Vitrual Environment Git Jupiter Notebooks"
   ]
  },
  {
   "cell_type": "code",
   "execution_count": 1,
   "id": "8391d906",
   "metadata": {},
   "outputs": [
    {
     "name": "stdout",
     "output_type": "stream",
     "text": [
      "Here is my Jupiter notebook\n"
     ]
    }
   ],
   "source": [
    "print(\"Here is my Jupiter notebook\")"
   ]
  },
  {
   "cell_type": "markdown",
   "id": "663770f6",
   "metadata": {},
   "source": [
    "\n",
    "## Second level of title"
   ]
  },
  {
   "cell_type": "markdown",
   "id": "4af2335b",
   "metadata": {},
   "source": [
    "### Third level of title"
   ]
  },
  {
   "cell_type": "code",
   "execution_count": 2,
   "id": "1885f60e",
   "metadata": {},
   "outputs": [
    {
     "name": "stdout",
     "output_type": "stream",
     "text": [
      "11\n"
     ]
    }
   ],
   "source": [
    "x = 5+6\n",
    "print(x)"
   ]
  }
 ],
 "metadata": {
  "kernelspec": {
   "display_name": "Python 3 (ipykernel)",
   "language": "python",
   "name": "python3"
  },
  "language_info": {
   "codemirror_mode": {
    "name": "ipython",
    "version": 3
   },
   "file_extension": ".py",
   "mimetype": "text/x-python",
   "name": "python",
   "nbconvert_exporter": "python",
   "pygments_lexer": "ipython3",
   "version": "3.10.4"
  }
 },
 "nbformat": 4,
 "nbformat_minor": 5
}
